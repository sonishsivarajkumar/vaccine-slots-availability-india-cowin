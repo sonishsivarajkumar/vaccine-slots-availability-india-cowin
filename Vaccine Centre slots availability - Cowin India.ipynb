{
 "cells": [
  {
   "cell_type": "code",
   "execution_count": 1,
   "metadata": {},
   "outputs": [],
   "source": [
    "import requests\n",
    "import datetime"
   ]
  },
  {
   "cell_type": "code",
   "execution_count": 17,
   "metadata": {},
   "outputs": [],
   "source": [
    "# pin_code = 680586\n",
    "pin_code = 680683 # Aloor"
   ]
  },
  {
   "cell_type": "code",
   "execution_count": 18,
   "metadata": {},
   "outputs": [],
   "source": [
    "base = datetime.datetime.today()\n",
    "date_list = [base + datetime.timedelta(days=x) for x in range(numdays)]\n",
    "date_str = [x.strftime(\"%d-%m-%Y\") for x in date_list]"
   ]
  },
  {
   "cell_type": "code",
   "execution_count": 19,
   "metadata": {},
   "outputs": [
    {
     "name": "stdout",
     "output_type": "stream",
     "text": [
      "No available slots on 30-04-2021\n",
      "No available slots on 01-05-2021\n",
      "No available slots on 02-05-2021\n",
      "No available slots on 03-05-2021\n",
      "No available slots on 04-05-2021\n",
      "No available slots on 05-05-2021\n",
      "No available slots on 06-05-2021\n",
      "No available slots on 07-05-2021\n",
      "No available slots on 08-05-2021\n",
      "No available slots on 09-05-2021\n",
      "No available slots on 10-05-2021\n",
      "No available slots on 11-05-2021\n",
      "No available slots on 12-05-2021\n",
      "No available slots on 13-05-2021\n",
      "No available slots on 14-05-2021\n",
      "No available slots on 15-05-2021\n",
      "No available slots on 16-05-2021\n",
      "No available slots on 17-05-2021\n",
      "No available slots on 18-05-2021\n",
      "No available slots on 19-05-2021\n"
     ]
    }
   ],
   "source": [
    "for DATE in date_str:\n",
    "    URL = \"https://cdn-api.co-vin.in/api/v2/appointment/sessions/public/calendarByPin?pincode={}&date={}\".format(pin_code, DATE)\n",
    "    response = requests.get(URL)\n",
    "    if response.ok:\n",
    "        resp_json = response.json()\n",
    "        if resp_json[\"centers\"]:\n",
    "            print(\"You can book vaccine slots on {}\".format(DATE))\n",
    "        else:\n",
    "            print(\"No available slots on {}\".format(DATE))"
   ]
  },
  {
   "cell_type": "code",
   "execution_count": 11,
   "metadata": {},
   "outputs": [
    {
     "name": "stdout",
     "output_type": "stream",
     "text": [
      "16\n",
      "b'{\"districts\":[{\"district_id\":270,\"district_name\":\"Bagalkot\"},{\"district_id\":276,\"district_name\":\"Bangalore Rural\"},{\"district_id\":265,\"district_name\":\"Bangalore Urban\"},{\"district_id\":294,\"district_name\":\"BBMP\"},{\"district_id\":264,\"district_name\":\"Belgaum\"},{\"district_id\":274,\"district_name\":\"Bellary\"},{\"district_id\":272,\"district_name\":\"Bidar\"},{\"district_id\":271,\"district_name\":\"Chamarajanagar\"},{\"district_id\":273,\"district_name\":\"Chikamagalur\"},{\"district_id\":291,\"district_name\":\"Chikkaballapur\"},{\"district_id\":268,\"district_name\":\"Chitradurga\"},{\"district_id\":269,\"district_name\":\"Dakshina Kannada\"},{\"district_id\":275,\"district_name\":\"Davanagere\"},{\"district_id\":278,\"district_name\":\"Dharwad\"},{\"district_id\":280,\"district_name\":\"Gadag\"},{\"district_id\":267,\"district_name\":\"Gulbarga\"},{\"district_id\":289,\"district_name\":\"Hassan\"},{\"district_id\":279,\"district_name\":\"Haveri\"},{\"district_id\":283,\"district_name\":\"Kodagu\"},{\"district_id\":277,\"district_name\":\"Kolar\"},{\"district_id\":282,\"district_name\":\"Koppal\"},{\"district_id\":290,\"district_name\":\"Mandya\"},{\"district_id\":266,\"district_name\":\"Mysore\"},{\"district_id\":284,\"district_name\":\"Raichur\"},{\"district_id\":292,\"district_name\":\"Ramanagara\"},{\"district_id\":287,\"district_name\":\"Shimoga\"},{\"district_id\":288,\"district_name\":\"Tumkur\"},{\"district_id\":286,\"district_name\":\"Udupi\"},{\"district_id\":281,\"district_name\":\"Uttar Kannada\"},{\"district_id\":293,\"district_name\":\"Vijayapura\"},{\"district_id\":285,\"district_name\":\"Yadgir\"}],\"ttl\":24}'\n",
      "\n",
      "\n",
      "17\n",
      "b'{\"districts\":[{\"district_id\":301,\"district_name\":\"Alappuzha\"},{\"district_id\":307,\"district_name\":\"Ernakulam\"},{\"district_id\":306,\"district_name\":\"Idukki\"},{\"district_id\":297,\"district_name\":\"Kannur\"},{\"district_id\":295,\"district_name\":\"Kasaragod\"},{\"district_id\":298,\"district_name\":\"Kollam\"},{\"district_id\":304,\"district_name\":\"Kottayam\"},{\"district_id\":305,\"district_name\":\"Kozhikode\"},{\"district_id\":302,\"district_name\":\"Malappuram\"},{\"district_id\":308,\"district_name\":\"Palakkad\"},{\"district_id\":300,\"district_name\":\"Pathanamthitta\"},{\"district_id\":296,\"district_name\":\"Thiruvananthapuram\"},{\"district_id\":303,\"district_name\":\"Thrissur\"},{\"district_id\":299,\"district_name\":\"Wayanad\"}],\"ttl\":24}'\n",
      "\n",
      "\n"
     ]
    }
   ],
   "source": [
    "for state_code in range(16,18):\n",
    "    print(state_code)\n",
    "    response = requests.get(\"https://cdn-api.co-vin.in/api/v2/admin/location/districts/{}\".format(state_code))\n",
    "    print(response.content)\n",
    "    print(\"\\n\")"
   ]
  },
  {
   "cell_type": "code",
   "execution_count": 12,
   "metadata": {},
   "outputs": [],
   "source": [
    "DIST_ID = 303 # Thrissur\n",
    "# DIST_ID = 308 # Palakad\n",
    "# DIST_ID = 307 # Ernakulam"
   ]
  },
  {
   "cell_type": "code",
   "execution_count": 13,
   "metadata": {},
   "outputs": [],
   "source": [
    "base = datetime.datetime.today()\n",
    "date_list = [base + datetime.timedelta(days=x) for x in range(numdays)]\n",
    "date_str = [x.strftime(\"%d-%m-%Y\") for x in date_list]"
   ]
  },
  {
   "cell_type": "code",
   "execution_count": null,
   "metadata": {},
   "outputs": [],
   "source": [
    "numdays = 20"
   ]
  },
  {
   "cell_type": "code",
   "execution_count": 14,
   "metadata": {},
   "outputs": [
    {
     "name": "stdout",
     "output_type": "stream",
     "text": [
      "You can book vaccine slots on 30-04-2021\n",
      "You can book vaccine slots on 01-05-2021\n",
      "No available slots on 02-05-2021\n",
      "No available slots on 03-05-2021\n",
      "No available slots on 04-05-2021\n",
      "No available slots on 05-05-2021\n",
      "No available slots on 06-05-2021\n",
      "No available slots on 07-05-2021\n",
      "No available slots on 08-05-2021\n",
      "No available slots on 09-05-2021\n",
      "No available slots on 10-05-2021\n",
      "No available slots on 11-05-2021\n",
      "No available slots on 12-05-2021\n",
      "No available slots on 13-05-2021\n",
      "No available slots on 14-05-2021\n",
      "No available slots on 15-05-2021\n",
      "No available slots on 16-05-2021\n",
      "No available slots on 17-05-2021\n",
      "No available slots on 18-05-2021\n",
      "No available slots on 19-05-2021\n"
     ]
    }
   ],
   "source": [
    "for DATE in date_str:\n",
    "    URL = \"https://cdn-api.co-vin.in/api/v2/appointment/sessions/public/calendarByDistrict?district_id={}&date={}\".format(DIST_ID, DATE)\n",
    "    response = requests.get(URL)\n",
    "    if response.ok:\n",
    "        resp_json = response.json()\n",
    "        if resp_json[\"centers\"]:\n",
    "            print(\"You can book vaccine slots on {}\".format(DATE))\n",
    "        else:\n",
    "            print(\"No available slots on {}\".format(DATE))"
   ]
  },
  {
   "cell_type": "code",
   "execution_count": null,
   "metadata": {},
   "outputs": [],
   "source": []
  }
 ],
 "metadata": {
  "kernelspec": {
   "display_name": "Python 3",
   "language": "python",
   "name": "python3"
  },
  "language_info": {
   "codemirror_mode": {
    "name": "ipython",
    "version": 3
   },
   "file_extension": ".py",
   "mimetype": "text/x-python",
   "name": "python",
   "nbconvert_exporter": "python",
   "pygments_lexer": "ipython3",
   "version": "3.7.6"
  }
 },
 "nbformat": 4,
 "nbformat_minor": 4
}
